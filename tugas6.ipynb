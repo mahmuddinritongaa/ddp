{
  "nbformat": 4,
  "nbformat_minor": 0,
  "metadata": {
    "colab": {
      "provenance": [],
      "authorship_tag": "ABX9TyMVSTEmHss063jjTk+Qewr1",
      "include_colab_link": true
    },
    "kernelspec": {
      "name": "python3",
      "display_name": "Python 3"
    },
    "language_info": {
      "name": "python"
    }
  },
  "cells": [
    {
      "cell_type": "markdown",
      "metadata": {
        "id": "view-in-github",
        "colab_type": "text"
      },
      "source": [
        "<a href=\"https://colab.research.google.com/github/mahmuddinritongaa/ddp/blob/main/tugas6.ipynb\" target=\"_parent\"><img src=\"https://colab.research.google.com/assets/colab-badge.svg\" alt=\"Open In Colab\"/></a>"
      ]
    },
    {
      "cell_type": "code",
      "source": [
        "numbers = [\n",
        "    951, 402, 984, 651, 360, 69, 408, 319, 601, 485, 980, 507, 725,\n",
        "    547, 544, 615, 83, 165, 141, 501, 263, 617, 865, 575, 219, 390,\n",
        "    984, 592, 236, 105, 942, 941, 386, 462, 47, 418, 907, 344, 236,\n",
        "    375, 823, 566, 597, 978, 328, 615, 953, 345, 399, 162, 758, 219,\n",
        "    918, 237, 412, 866, 286, 248, 866, 950, 626, 949, 687, 217, 815,\n",
        "    67, 104, 58, 512, 24, 892, 894, 767, 553, 81, 379, 843, 431, 445,\n",
        "    742, 717, 958, 609, 842, 451, 688, 753, 854, 685, 93, 857, 440,\n",
        "    380, 126, 721, 328, 753, 470, 743, 527\n",
        "]\n",
        "\n",
        "i = 0  # indeks awal\n",
        "while i <= len(numbers):\n",
        "    if numbers[i] == 553:\n",
        "        break  # hentikan jika sudah melewati bilangan 553\n",
        "    if numbers[i] % 2 == 0:\n",
        "        print(numbers[i])\n",
        "    i += 1"
      ],
      "metadata": {
        "colab": {
          "base_uri": "https://localhost:8080/"
        },
        "id": "QY10U_iltppL",
        "outputId": "2ba20f42-309f-4a43-fbb1-a4be512176b1"
      },
      "execution_count": 9,
      "outputs": [
        {
          "output_type": "stream",
          "name": "stdout",
          "text": [
            "402\n",
            "984\n",
            "360\n",
            "408\n",
            "980\n",
            "544\n",
            "390\n",
            "984\n",
            "592\n",
            "236\n",
            "942\n",
            "386\n",
            "462\n",
            "418\n",
            "344\n",
            "236\n",
            "566\n",
            "978\n",
            "328\n",
            "162\n",
            "758\n",
            "918\n",
            "412\n",
            "866\n",
            "286\n",
            "248\n",
            "866\n",
            "950\n",
            "626\n",
            "104\n",
            "58\n",
            "512\n",
            "24\n",
            "892\n",
            "894\n"
          ]
        }
      ]
    },
    {
      "cell_type": "code",
      "source": [
        "\n",
        "# tugas 2\n",
        "\n",
        "# Inisialisasi variabel\n",
        "jumlah = 0\n",
        "string= ''\n",
        "\n",
        "bilangan = 1\n",
        "while bilangan <= 19:\n",
        "   jumlah += bilangan\n",
        "   string += str(bilangan)\n",
        "   if bilangan <19:\n",
        "      string += '+'\n",
        "   bilangan += 2\n",
        "print(string,'=' ,jumlah)"
      ],
      "metadata": {
        "colab": {
          "base_uri": "https://localhost:8080/"
        },
        "id": "2Nmzo_aXudDB",
        "outputId": "38be577b-7353-4f46-bcbb-665b70803390"
      },
      "execution_count": 10,
      "outputs": [
        {
          "output_type": "stream",
          "name": "stdout",
          "text": [
            "1+3+5+7+9+11+13+15+17+19 = 100\n"
          ]
        }
      ]
    },
    {
      "cell_type": "code",
      "source": [
        "#tugas 3\n",
        "\n",
        "baris = int(input('masukan angka:'))\n",
        "for i in range(1,baris + 1):\n",
        "  print('*' * i)"
      ],
      "metadata": {
        "colab": {
          "base_uri": "https://localhost:8080/"
        },
        "id": "rxBcPTiJuv-z",
        "outputId": "2b27cc8d-bc50-49be-d2b7-8a1bbe30ed10"
      },
      "execution_count": 11,
      "outputs": [
        {
          "output_type": "stream",
          "name": "stdout",
          "text": [
            "masukan angka:5\n",
            "*\n",
            "**\n",
            "***\n",
            "****\n",
            "*****\n"
          ]
        }
      ]
    }
  ]
}